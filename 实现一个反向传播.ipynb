{
 "cells": [
  {
   "cell_type": "code",
   "execution_count": 1,
   "metadata": {},
   "outputs": [],
   "source": [
    "import numpy as np\n",
    "import pandas as pd"
   ]
  },
  {
   "cell_type": "code",
   "execution_count": 2,
   "metadata": {},
   "outputs": [],
   "source": [
    "admissions = pd.read_csv('binary.csv')"
   ]
  },
  {
   "cell_type": "code",
   "execution_count": 3,
   "metadata": {},
   "outputs": [
    {
     "data": {
      "text/html": [
       "<div>\n",
       "<style scoped>\n",
       "    .dataframe tbody tr th:only-of-type {\n",
       "        vertical-align: middle;\n",
       "    }\n",
       "\n",
       "    .dataframe tbody tr th {\n",
       "        vertical-align: top;\n",
       "    }\n",
       "\n",
       "    .dataframe thead th {\n",
       "        text-align: right;\n",
       "    }\n",
       "</style>\n",
       "<table border=\"1\" class=\"dataframe\">\n",
       "  <thead>\n",
       "    <tr style=\"text-align: right;\">\n",
       "      <th></th>\n",
       "      <th>admit</th>\n",
       "      <th>gre</th>\n",
       "      <th>gpa</th>\n",
       "      <th>rank</th>\n",
       "    </tr>\n",
       "  </thead>\n",
       "  <tbody>\n",
       "    <tr>\n",
       "      <td>0</td>\n",
       "      <td>0</td>\n",
       "      <td>380</td>\n",
       "      <td>3.61</td>\n",
       "      <td>3</td>\n",
       "    </tr>\n",
       "    <tr>\n",
       "      <td>1</td>\n",
       "      <td>1</td>\n",
       "      <td>660</td>\n",
       "      <td>3.67</td>\n",
       "      <td>3</td>\n",
       "    </tr>\n",
       "    <tr>\n",
       "      <td>2</td>\n",
       "      <td>1</td>\n",
       "      <td>800</td>\n",
       "      <td>4.00</td>\n",
       "      <td>1</td>\n",
       "    </tr>\n",
       "    <tr>\n",
       "      <td>3</td>\n",
       "      <td>1</td>\n",
       "      <td>640</td>\n",
       "      <td>3.19</td>\n",
       "      <td>4</td>\n",
       "    </tr>\n",
       "    <tr>\n",
       "      <td>4</td>\n",
       "      <td>0</td>\n",
       "      <td>520</td>\n",
       "      <td>2.93</td>\n",
       "      <td>4</td>\n",
       "    </tr>\n",
       "  </tbody>\n",
       "</table>\n",
       "</div>"
      ],
      "text/plain": [
       "   admit  gre   gpa  rank\n",
       "0      0  380  3.61     3\n",
       "1      1  660  3.67     3\n",
       "2      1  800  4.00     1\n",
       "3      1  640  3.19     4\n",
       "4      0  520  2.93     4"
      ]
     },
     "execution_count": 3,
     "metadata": {},
     "output_type": "execute_result"
    }
   ],
   "source": [
    "admissions.head()"
   ]
  },
  {
   "cell_type": "code",
   "execution_count": 39,
   "metadata": {},
   "outputs": [],
   "source": [
    "#特征提取\n",
    "data = pd.concat([admissions, pd.get_dummies(admissions['rank'],prefix = 'rank')],axis=1).drop('rank',axis = 1)"
   ]
  },
  {
   "cell_type": "code",
   "execution_count": 40,
   "metadata": {},
   "outputs": [],
   "source": [
    "#标准化方法\n",
    "def normalized(data):\n",
    "    return (data-data.mean())/data.std()"
   ]
  },
  {
   "cell_type": "code",
   "execution_count": 41,
   "metadata": {},
   "outputs": [],
   "source": [
    "#标准化‘gre’和‘gpa’\n",
    "for field in ['gre', 'gpa']:\n",
    "    mean, std = data[field].mean(), data[field].std()\n",
    "    data.loc[:,field] = (data[field]-mean)/std"
   ]
  },
  {
   "cell_type": "code",
   "execution_count": 42,
   "metadata": {},
   "outputs": [],
   "source": [
    "#随机的选择训练集，和验证集\n",
    "np.random.seed(21)\n",
    "sample = np.random.choice(data.index, size = int(len(data)*0.9), replace = False)\n",
    "data, test_data = data.loc[sample],data.drop(sample)"
   ]
  },
  {
   "cell_type": "code",
   "execution_count": 43,
   "metadata": {},
   "outputs": [],
   "source": [
    "#分离数据为特征和结果\n",
    "features, targets = data.drop('admit',axis = 1), data['admit']\n",
    "test_feature, test_targets = test_data.drop('admit',axis = 1),test_data['admit']"
   ]
  },
  {
   "cell_type": "code",
   "execution_count": 44,
   "metadata": {},
   "outputs": [],
   "source": [
    "#sigmoid函数\n",
    "def sigmoid(x):\n",
    "    return 1/(1+np.exp(-x))"
   ]
  },
  {
   "cell_type": "code",
   "execution_count": 45,
   "metadata": {},
   "outputs": [],
   "source": [
    "#隐藏层特征数，训练次数，学习率\n",
    "n_hidden = 2\n",
    "epochs = 900\n",
    "learn_rate = 0.005"
   ]
  },
  {
   "cell_type": "code",
   "execution_count": 46,
   "metadata": {},
   "outputs": [],
   "source": [
    "n_records,n_features = features.shape\n",
    "last_loss = None"
   ]
  },
  {
   "cell_type": "code",
   "execution_count": 47,
   "metadata": {},
   "outputs": [],
   "source": [
    "#初始化权重\n",
    "np.random.seed(21)\n",
    "weight_input_hidden = np.random.normal(scale=1 / n_features ** .5,size = (n_features,n_hidden))\n",
    "weight_hidden_output = np.random.normal(scale=1 / n_features ** .5,size = n_hidden)"
   ]
  },
  {
   "cell_type": "code",
   "execution_count": 48,
   "metadata": {},
   "outputs": [],
   "source": [
    "for e in range(epochs):\n",
    "    #初始化权重变化值\n",
    "    del_w_input_hidden = np.zeros(weight_input_hidden.shape)\n",
    "    del_w_hidden_output = np.zeros(weight_hidden_output.shape)\n",
    "    for x,y in zip(features.values,targets):\n",
    "  \n",
    "        \n",
    "        #正向传播输入-隐藏层\n",
    "        hidden_input = np.dot(x,weight_input_hidden)\n",
    "        \n",
    "        #激活函数\n",
    "        hidden_output = sigmoid(hidden_input)\n",
    "        \n",
    "        #正向传播隐藏层-输出\n",
    "        output = sigmoid(np.dot(hidden_output,weight_hidden_output))\n",
    "        \n",
    "        #误差\n",
    "        error = y-output\n",
    "        \n",
    "        #反向传播输出-隐藏层\n",
    "        output_error_term = error*output*(1-output)\n",
    "        \n",
    "        #反向传播隐藏层-输入\n",
    "        hidden_error = np.dot(output_error_term,weight_hidden_output)\n",
    "        hidden_error_term = hidden_error*hidden_output*(1-hidden_output)\n",
    "        \n",
    "        #隐藏层-输出权重变化\n",
    "        del_w_hidden_output += learn_rate*hidden_output*output_error_term/n_records\n",
    "        #输入-隐藏层权重变化\n",
    "        del_w_input_hidden += learn_rate*x[:,None]*hidden_error_term/n_records\n",
    "        #更新权重变化值\n",
    "    weight_input_hidden += del_w_input_hidden\n",
    "    weight_hidden_output += del_w_hidden_output\n"
   ]
  },
  {
   "cell_type": "code",
   "execution_count": 49,
   "metadata": {},
   "outputs": [
    {
     "name": "stdout",
     "output_type": "stream",
     "text": [
      "Prediction accuracy: 0.725\n"
     ]
    }
   ],
   "source": [
    "hidden = sigmoid(np.dot(test_feature, weight_input_hidden))\n",
    "out = sigmoid(np.dot(hidden, weight_hidden_output))\n",
    "predictions = out > 0.5\n",
    "accuracy = np.mean(predictions == test_targets)\n",
    "print(\"Prediction accuracy: {:.3f}\".format(accuracy))"
   ]
  }
 ],
 "metadata": {
  "kernelspec": {
   "display_name": "Python 3",
   "language": "python",
   "name": "python3"
  },
  "language_info": {
   "codemirror_mode": {
    "name": "ipython",
    "version": 3
   },
   "file_extension": ".py",
   "mimetype": "text/x-python",
   "name": "python",
   "nbconvert_exporter": "python",
   "pygments_lexer": "ipython3",
   "version": "3.7.4"
  },
  "toc": {
   "base_numbering": 1,
   "nav_menu": {},
   "number_sections": true,
   "sideBar": true,
   "skip_h1_title": false,
   "title_cell": "Table of Contents",
   "title_sidebar": "Contents",
   "toc_cell": false,
   "toc_position": {},
   "toc_section_display": true,
   "toc_window_display": false
  }
 },
 "nbformat": 4,
 "nbformat_minor": 2
}
